{
 "cells": [
  {
   "cell_type": "code",
   "execution_count": 3,
   "metadata": {},
   "outputs": [
    {
     "name": "stdout",
     "output_type": "stream",
     "text": [
      "Requirement already satisfied: requests in c:\\users\\fitor\\appdata\\local\\programs\\python\\python312\\lib\\site-packages (2.32.3)\n",
      "Requirement already satisfied: charset-normalizer<4,>=2 in c:\\users\\fitor\\appdata\\local\\programs\\python\\python312\\lib\\site-packages (from requests) (3.4.0)\n",
      "Requirement already satisfied: idna<4,>=2.5 in c:\\users\\fitor\\appdata\\local\\programs\\python\\python312\\lib\\site-packages (from requests) (3.10)\n",
      "Requirement already satisfied: urllib3<3,>=1.21.1 in c:\\users\\fitor\\appdata\\local\\programs\\python\\python312\\lib\\site-packages (from requests) (2.2.3)\n",
      "Requirement already satisfied: certifi>=2017.4.17 in c:\\users\\fitor\\appdata\\local\\programs\\python\\python312\\lib\\site-packages (from requests) (2024.8.30)\n",
      "Note: you may need to restart the kernel to use updated packages.\n"
     ]
    },
    {
     "name": "stderr",
     "output_type": "stream",
     "text": [
      "\n",
      "[notice] A new release of pip is available: 24.2 -> 24.3.1\n",
      "[notice] To update, run: python.exe -m pip install --upgrade pip\n"
     ]
    }
   ],
   "source": [
    "pip install requests\n"
   ]
  },
  {
   "cell_type": "code",
   "execution_count": null,
   "metadata": {},
   "outputs": [
    {
     "name": "stdout",
     "output_type": "stream",
     "text": [
      "   success message                                               data\n",
      "0     True          {'highlightedComments': ['Thanks for having me...\n",
      "1     True          {'highlightedComments': ['Thanks for having me...\n",
      "2     True          {'highlightedComments': ['Take a look at Break...\n",
      "3     True          {'highlightedComments': ['Thanks for a fascina...\n",
      "4     True          {'highlightedComments': ['Sal Khan The early d...\n",
      "Data berhasil disimpan ke 'linkedin_profile_comments.csv'\n"
     ]
    }
   ],
   "source": [
    "import requests\n",
    "import pandas as pd\n",
    "\n",
    "# Ganti dengan API Key Anda dari RapidAPI\n",
    "API_KEY = \"e7cfca7086mshb39f9ddd43d29b7p10bd20jsn2f950456dda8\"\n",
    "\n",
    "# Base URL untuk LinkedIn Job Search API dari RapidAPI\n",
    "url = \"https://linkedin-data-api.p.rapidapi.com/get-profile-comments?username=williamhgates\"\n",
    "\n",
    "# Headers untuk autentikasi\n",
    "headers = {\n",
    "    \"X-RapidAPI-Key\": API_KEY,\n",
    "    \"X-RapidAPI-Host\": \"linkedin-data-api.p.rapidapi.com\"\n",
    "}\n",
    "\n",
    "# Membuat permintaan API\n",
    "response = requests.get(url, headers=headers)\n",
    "\n",
    "# Mengecek status respon\n",
    "if response.status_code == 200:\n",
    "    # Parsing data JSON\n",
    "    jobs_data = response.json()\n",
    "    \n",
    "    # Membuat DataFrame dari data pekerjaan\n",
    "    jobs_df = pd.DataFrame(jobs_data)\n",
    "    print(jobs_df.head())\n",
    "    \n",
    "    # Menyimpan data ke CSV\n",
    "    jobs_df.to_csv(\"linkedin_profile_comments.csv\", index=False)\n",
    "    print(\"Data berhasil disimpan ke 'linkedin_profile_comments.csv'\")\n",
    "\n",
    "else:\n",
    "    print(\"Gagal mengambil data:\", response.status_code)\n"
   ]
  }
 ],
 "metadata": {
  "kernelspec": {
   "display_name": "Python 3",
   "language": "python",
   "name": "python3"
  },
  "language_info": {
   "codemirror_mode": {
    "name": "ipython",
    "version": 3
   },
   "file_extension": ".py",
   "mimetype": "text/x-python",
   "name": "python",
   "nbconvert_exporter": "python",
   "pygments_lexer": "ipython3",
   "version": "3.12.6"
  }
 },
 "nbformat": 4,
 "nbformat_minor": 2
}
